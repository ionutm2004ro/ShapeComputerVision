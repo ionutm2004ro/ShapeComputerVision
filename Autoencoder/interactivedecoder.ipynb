{
 "cells": [
  {
   "cell_type": "code",
   "execution_count": 1,
   "metadata": {},
   "outputs": [],
   "source": [
    "def load_data(debug=False, edgeDetect=False, folder='Fill2NoBg'):\n",
    "    from keras.utils import to_categorical\n",
    "    \n",
    "    # loading data\n",
    "    PATH = os.getcwd()\n",
    "    # Define data path\n",
    "    data_path = PATH + '/../ShapeData/' + folder\n",
    "    data_dir_list = os.listdir(data_path)\n",
    "    data_dir_list = [data_dir_list[2]] #0=Ellipse 1=Quadrilateral 2=Triangle\n",
    "    img_data_list=[]\n",
    "\n",
    "    for dataset in data_dir_list:\n",
    "        img_list=os.listdir(data_path+'/'+ dataset)\n",
    "        print ('Loaded the images of dataset-'+'{}\\n'.format(dataset))\n",
    "        for img in img_list:\n",
    "            if edgeDetect:\n",
    "                input_img=cv2.imread(data_path + '/'+ dataset + '/'+ img,1)\n",
    "                img_data_list.append(edge_detection(input_img))\n",
    "            else:\n",
    "                input_img=cv2.imread(data_path + '/'+ dataset + '/'+ img,0)#1=RGB,0=Grey,-1=unchanged\n",
    "                img_data_list.append(input_img)\n",
    "#            input_img_resize=cv2.resize(input_img,(IMAGE_HEIGHT,IMAGE_WIDTH))\n",
    "#            img_data_list.append(input_img_resize)\n",
    "#             img_data_list.append(edge_detection(input_img))\n",
    "    \n",
    "    X_train = np.array(img_data_list)\n",
    "    \n",
    "    #Reshaping\n",
    "    #X_train = np.reshape(X_train, (X_train.shape[0], X_train.shape[1], X_train.shape[2], num_channels))\n",
    "    \n",
    "    if debug:\n",
    "        print('After preprocessing: ')\n",
    "        print(' - X_train.shape = {}, y_train.shape = {}'.format(X_train.shape, y_train.shape))\n",
    "        print(' - X_val.shape = {}, y_val.shape = {}'.format(X_val.shape, y_val.shape))\n",
    "        print(' - X_test.shape = {}, y_test.shape = {}'.format(X_test.shape, y_test.shape))\n",
    "        print(' - test_images.shape = {}, test_labels.shape = {}'.format(\n",
    "            test_images.shape, test_labels.shape))  \n",
    "    \n",
    "    return X_train"
   ]
  },
  {
   "cell_type": "code",
   "execution_count": 2,
   "metadata": {},
   "outputs": [
    {
     "name": "stderr",
     "output_type": "stream",
     "text": [
      "Using TensorFlow backend.\n"
     ]
    },
    {
     "name": "stdout",
     "output_type": "stream",
     "text": [
      "Loaded the images of dataset-Triangle\n",
      "\n"
     ]
    }
   ],
   "source": [
    "import numpy as np\n",
    "import os,cv2\n",
    "X = load_data()\n",
    "X = X.astype('float32') / 255.0 - 0.5"
   ]
  },
  {
   "cell_type": "code",
   "execution_count": 3,
   "metadata": {},
   "outputs": [],
   "source": [
    "from tensorflow.keras.layers import Dense, Flatten, Reshape, Input, InputLayer\n",
    "from tensorflow.keras.models import Sequential, Model\n",
    "\n",
    "def build_autoencoder(img_shape, code_size):\n",
    "    # The encoder\n",
    "    encoder = Sequential()\n",
    "    encoder.add(InputLayer(img_shape))\n",
    "    encoder.add(Flatten())\n",
    "    encoder.add(Dense(code_size))\n",
    "\n",
    "    # The decoder\n",
    "    decoder = Sequential()\n",
    "    decoder.add(InputLayer((code_size,)))\n",
    "    decoder.add(Dense(np.prod(img_shape))) # np.prod(img_shape) is the same as 32*32*3, it's more generic than saying 3072\n",
    "    decoder.add(Reshape(img_shape))\n",
    "\n",
    "    return encoder, decoder"
   ]
  },
  {
   "cell_type": "code",
   "execution_count": 4,
   "metadata": {},
   "outputs": [
    {
     "name": "stdout",
     "output_type": "stream",
     "text": [
      "Model: \"model\"\n",
      "_________________________________________________________________\n",
      "Layer (type)                 Output Shape              Param #   \n",
      "=================================================================\n",
      "input_3 (InputLayer)         [(None, 40, 40)]          0         \n",
      "_________________________________________________________________\n",
      "sequential (Sequential)      (None, 20)                32020     \n",
      "_________________________________________________________________\n",
      "sequential_1 (Sequential)    (None, 40, 40)            33600     \n",
      "=================================================================\n",
      "Total params: 65,620\n",
      "Trainable params: 65,620\n",
      "Non-trainable params: 0\n",
      "_________________________________________________________________\n",
      "None\n"
     ]
    }
   ],
   "source": [
    "IMG_SHAPE = X.shape[1:]\n",
    "encoder, decoder = build_autoencoder(IMG_SHAPE, 20)\n",
    "\n",
    "inp = Input(IMG_SHAPE)\n",
    "code = encoder(inp)\n",
    "reconstruction = decoder(code)\n",
    "\n",
    "autoencoder = Model(inp,reconstruction)\n",
    "autoencoder.compile(optimizer='adamax', loss='mse')\n",
    "\n",
    "print(autoencoder.summary())"
   ]
  },
  {
   "cell_type": "code",
   "execution_count": 5,
   "metadata": {},
   "outputs": [
    {
     "name": "stdout",
     "output_type": "stream",
     "text": [
      "WARNING:tensorflow:No training configuration found in save file: the model was *not* compiled. Compile it manually.\n",
      "WARNING:tensorflow:No training configuration found in save file: the model was *not* compiled. Compile it manually.\n",
      "Model: \"sequential_2\"\n",
      "_________________________________________________________________\n",
      "Layer (type)                 Output Shape              Param #   \n",
      "=================================================================\n",
      "flatten_1 (Flatten)          (None, 1600)              0         \n",
      "_________________________________________________________________\n",
      "dense_2 (Dense)              (None, 100)               160100    \n",
      "=================================================================\n",
      "Total params: 160,100\n",
      "Trainable params: 160,100\n",
      "Non-trainable params: 0\n",
      "_________________________________________________________________\n",
      "Model: \"sequential_3\"\n",
      "_________________________________________________________________\n",
      "Layer (type)                 Output Shape              Param #   \n",
      "=================================================================\n",
      "dense_3 (Dense)              (None, 1600)              161600    \n",
      "_________________________________________________________________\n",
      "reshape_1 (Reshape)          (None, 40, 40)            0         \n",
      "=================================================================\n",
      "Total params: 161,600\n",
      "Trainable params: 161,600\n",
      "Non-trainable params: 0\n",
      "_________________________________________________________________\n"
     ]
    }
   ],
   "source": [
    "import tensorflow as tf\n",
    "\n",
    "# load model\n",
    "encoder = tf.keras.models.load_model('encoder.h5')\n",
    "decoder = tf.keras.models.load_model('decoder.h5')\n",
    "\n",
    "encoder.summary()\n",
    "decoder.summary()"
   ]
  },
  {
   "cell_type": "code",
   "execution_count": 6,
   "metadata": {},
   "outputs": [],
   "source": [
    "import matplotlib.pyplot as plt\n",
    "def show_image(x):\n",
    "    plt.imshow(np.clip(x + 0.5, 0, 1),cmap='gray')\n",
    "show_image(X[6])"
   ]
  },
  {
   "cell_type": "code",
   "execution_count": 18,
   "metadata": {},
   "outputs": [],
   "source": [
    "img = X[0]\n",
    "code = encoder.predict(img[None])[0]\n",
    "reco = decoder.predict(code[None])[0]\n",
    "show_image(reco)\n",
    "plt.show()"
   ]
  },
  {
   "cell_type": "code",
   "execution_count": 20,
   "metadata": {},
   "outputs": [
    {
     "data": {
      "application/vnd.jupyter.widget-view+json": {
       "model_id": "4f396877f5064f549528c50ad401d01d",
       "version_major": 2,
       "version_minor": 0
      },
      "text/plain": [
       "Canvas(toolbar=Toolbar(toolitems=[('Home', 'Reset original view', 'home', 'home'), ('Back', 'Back to previous …"
      ]
     },
     "metadata": {},
     "output_type": "display_data"
    },
    {
     "data": {
      "application/vnd.jupyter.widget-view+json": {
       "model_id": "7703b38a32a64e4bb4551b419098413d",
       "version_major": 2,
       "version_minor": 0
      },
      "text/plain": [
       "interactive(children=(FloatSlider(value=0.0, description='val1', max=2.0, min=-2.0), FloatSlider(value=0.0, de…"
      ]
     },
     "metadata": {},
     "output_type": "display_data"
    },
    {
     "data": {
      "text/plain": [
       "<function __main__.plot_func(val1, val2, val3, val4, val5, val6)>"
      ]
     },
     "execution_count": 20,
     "metadata": {},
     "output_type": "execute_result"
    }
   ],
   "source": [
    "%matplotlib widget\n",
    "from ipywidgets import interact, interactive, fixed, interact_manual\n",
    "import ipywidgets as widgets\n",
    "import matplotlib.pyplot as plt\n",
    "import numpy as np\n",
    "\n",
    "plt.ion()\n",
    "plt.plot()\n",
    "def plot_func(val1,val2,val3,val4,val5,val6):\n",
    "    tmpcode = np.copy(code)\n",
    "    tmpcode[0] = val1\n",
    "    tmpcode[1] = val2\n",
    "    tmpcode[2] = val3\n",
    "    tmpcode[3] = val4\n",
    "    tmpcode[4] = val5\n",
    "    tmpcode[5] = val6\n",
    "    reco = decoder.predict(tmpcode[None])[0]\n",
    "    plt.imshow(np.clip(reco + 0.5, 0, 1),cmap='gray')\n",
    "\n",
    "# interact(plot_func, val1 = widgets.FloatSlider(value=0, min=-2, \n",
    "# max=2,step=0.1))\n",
    "interact(plot_func, \n",
    "         val1 = widgets.FloatSlider(min=-2,max=2),\n",
    "         val2 = widgets.FloatSlider(min=-2,max=2),\n",
    "         val3 = widgets.FloatSlider(min=-2,max=2),\n",
    "         val4 = widgets.FloatSlider(min=-2,max=2),\n",
    "         val5 = widgets.FloatSlider(min=-2,max=2),\n",
    "         val6 = widgets.FloatSlider(min=-2,max=2),\n",
    "        )"
   ]
  },
  {
   "cell_type": "markdown",
   "metadata": {},
   "source": [
    "Above proves that PCA(principle component analysis) is required"
   ]
  }
 ],
 "metadata": {
  "kernelspec": {
   "display_name": "Python 3",
   "language": "python",
   "name": "python3"
  },
  "language_info": {
   "codemirror_mode": {
    "name": "ipython",
    "version": 3
   },
   "file_extension": ".py",
   "mimetype": "text/x-python",
   "name": "python",
   "nbconvert_exporter": "python",
   "pygments_lexer": "ipython3",
   "version": "3.7.4"
  }
 },
 "nbformat": 4,
 "nbformat_minor": 4
}
