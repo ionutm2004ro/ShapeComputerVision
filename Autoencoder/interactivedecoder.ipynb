{
 "cells": [
  {
   "cell_type": "code",
   "execution_count": 8,
   "metadata": {},
   "outputs": [
    {
     "data": {
      "image/png": "[encoded data removed]",
      "text/plain": [
       "<Figure size 432x288 with 1 Axes>"
      ]
     },
     "metadata": {
      "needs_background": "light"
     },
     "output_type": "display_data"
    }
   ],
   "source": [
    "img = X[0]\n",
    "code = encoder.predict(img[None])[0]\n",
    "reco = decoder.predict(code[None])[0]\n",
    "show_image(reco)\n",
    "plt.show()"
   ]
  },
  {
   "cell_type": "code",
   "execution_count": 1,
   "metadata": {},
   "outputs": [
    {
     "name": "stderr",
     "output_type": "stream",
     "text": [
      "Using TensorFlow backend.\n"
     ]
    },
    {
     "name": "stdout",
     "output_type": "stream",
     "text": [
      "Loaded the images of dataset-Triangle\n",
      "\n",
      "Model: \"model\"\n",
      "_________________________________________________________________\n",
      "Layer (type)                 Output Shape              Param #   \n",
      "=================================================================\n",
      "input_3 (InputLayer)         [(None, 40, 40)]          0         \n",
      "_________________________________________________________________\n",
      "sequential (Sequential)      (None, 100)               160100    \n",
      "_________________________________________________________________\n",
      "sequential_1 (Sequential)    (None, 40, 40)            161600    \n",
      "=================================================================\n",
      "Total params: 321,700\n",
      "Trainable params: 321,700\n",
      "Non-trainable params: 0\n",
      "_________________________________________________________________\n",
      "None\n"
     ]
    }
   ],
   "source": [
    "%run commonAutoenCode"
   ]
  },
  {
   "cell_type": "code",
   "execution_count": 2,
   "metadata": {},
   "outputs": [
    {
     "name": "stdout",
     "output_type": "stream",
     "text": [
      "Model: \"sequential\"\n",
      "_________________________________________________________________\n",
      "Layer (type)                 Output Shape              Param #   \n",
      "=================================================================\n",
      "flatten (Flatten)            (None, 1600)              0         \n",
      "_________________________________________________________________\n",
      "dense (Dense)                (None, 100)               160100    \n",
      "=================================================================\n",
      "Total params: 160,100\n",
      "Trainable params: 160,100\n",
      "Non-trainable params: 0\n",
      "_________________________________________________________________\n",
      "Model: \"sequential_1\"\n",
      "_________________________________________________________________\n",
      "Layer (type)                 Output Shape              Param #   \n",
      "=================================================================\n",
      "dense_1 (Dense)              (None, 1600)              161600    \n",
      "_________________________________________________________________\n",
      "reshape (Reshape)            (None, 40, 40)            0         \n",
      "=================================================================\n",
      "Total params: 161,600\n",
      "Trainable params: 161,600\n",
      "Non-trainable params: 0\n",
      "_________________________________________________________________\n"
     ]
    }
   ],
   "source": [
    "import tensorflow as tf\n",
    "\n",
    "# load model\n",
    "# encoder = tf.keras.models.load_model('encoder.h5',\n",
    "#     custom_objects={'UncorrelatedFeaturesConstraint': UncorrelatedFeaturesConstraint})\n",
    "# decoder = tf.keras.models.load_model('decoder.h5')\n",
    "encoder.load_weights('encoder_weights.h5')\n",
    "decoder.load_weights('decoder_weights.h5')\n",
    "\n",
    "encoder.summary()\n",
    "decoder.summary()"
   ]
  },
  {
   "cell_type": "code",
   "execution_count": 2,
   "metadata": {},
   "outputs": [
    {
     "data": {
      "application/vnd.jupyter.widget-view+json": {
       "model_id": "8e1611cac02a4a6f84394110bb08f867",
       "version_major": 2,
       "version_minor": 0
      },
      "text/plain": [
       "Canvas(toolbar=Toolbar(toolitems=[('Home', 'Reset original view', 'home', 'home'), ('Back', 'Back to previous …"
      ]
     },
     "metadata": {},
     "output_type": "display_data"
    },
    {
     "data": {
      "application/vnd.jupyter.widget-view+json": {
       "model_id": "0b59d280253b4bcfa5a0bf8ea20ba0fe",
       "version_major": 2,
       "version_minor": 0
      },
      "text/plain": [
       "interactive(children=(FloatSlider(value=0.2632097005844116, description='val1', max=2.0, min=-2.0), FloatSlide…"
      ]
     },
     "metadata": {},
     "output_type": "display_data"
    },
    {
     "data": {
      "text/plain": [
       "<function __main__.plot_func(val1, val2, val3, val4, val5, val6)>"
      ]
     },
     "execution_count": 2,
     "metadata": {},
     "output_type": "execute_result"
    }
   ],
   "source": [
    "%matplotlib widget\n",
    "from ipywidgets import interact, interactive, fixed, interact_manual\n",
    "import ipywidgets as widgets\n",
    "import matplotlib.pyplot as plt\n",
    "import numpy as np\n",
    "\n",
    "plt.ion()\n",
    "plt.plot()\n",
    "img = X[0]\n",
    "code = encoder.predict(img[None])[0]\n",
    "def plot_func(val1,val2,val3,val4,val5,val6):\n",
    "    tmpcode = np.copy(code)\n",
    "    tmpcode[0] = val1\n",
    "    tmpcode[1] = val2\n",
    "    tmpcode[2] = val3\n",
    "    tmpcode[3] = val4\n",
    "    tmpcode[4] = val5\n",
    "    tmpcode[5] = val6\n",
    "    reco = decoder.predict(tmpcode[None])[0]\n",
    "    plt.imshow(np.clip(reco + 0.5, 0, 1),cmap='gray')\n",
    "\n",
    "# interact(plot_func, val1 = widgets.FloatSlider(value=0, min=-2, \n",
    "# max=2,step=0.1))\n",
    "interact(plot_func, \n",
    "         val1 = widgets.FloatSlider(value=code[0],min=-2,max=2),\n",
    "         val2 = widgets.FloatSlider(value=code[1],min=-2,max=2),\n",
    "         val3 = widgets.FloatSlider(value=code[2],min=-2,max=2),\n",
    "         val4 = widgets.FloatSlider(value=code[3],min=-2,max=2),\n",
    "         val5 = widgets.FloatSlider(value=code[4],min=-2,max=2),\n",
    "         val6 = widgets.FloatSlider(value=code[5],min=-2,max=2),\n",
    "        )"
   ]
  },
  {
   "cell_type": "markdown",
   "metadata": {},
   "source": [
    "Above proves that PCA(principle component analysis) is required"
   ]
  }
 ],
 "metadata": {
  "kernelspec": {
   "display_name": "Python 3",
   "language": "python",
   "name": "python3"
  },
  "language_info": {
   "codemirror_mode": {
    "name": "ipython",
    "version": 3
   },
   "file_extension": ".py",
   "mimetype": "text/x-python",
   "name": "python",
   "nbconvert_exporter": "python",
   "pygments_lexer": "ipython3",
   "version": "3.7.4"
  }
 },
 "nbformat": 4,
 "nbformat_minor": 4
}
