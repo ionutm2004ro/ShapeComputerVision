{
 "cells": [
  {
   "cell_type": "markdown",
   "metadata": {
    "colab_type": "text",
    "id": "YNwIoMwhjvYf"
   },
   "source": [
    "### Making Predictions with the Keras Model\n",
    "Next we will run predictions with our Tensorflow model & view some random results."
   ]
  },
  {
   "cell_type": "markdown",
   "metadata": {},
   "source": [
    "# Loading model"
   ]
  },
  {
   "cell_type": "code",
   "execution_count": 1,
   "metadata": {},
   "outputs": [
    {
     "name": "stderr",
     "output_type": "stream",
     "text": [
      "Using TensorFlow backend.\n"
     ]
    },
    {
     "name": "stdout",
     "output_type": "stream",
     "text": [
      "Loaded the images of dataset-Ellipse\n",
      "\n",
      "Loaded the images of dataset-Quadrilateral\n",
      "\n",
      "Loaded the images of dataset-Triangle\n",
      "\n"
     ]
    }
   ],
   "source": [
    "%run commonCode"
   ]
  },
  {
   "cell_type": "code",
   "execution_count": 2,
   "metadata": {},
   "outputs": [
    {
     "name": "stdout",
     "output_type": "stream",
     "text": [
      "Model: \"sequential\"\n",
      "_________________________________________________________________\n",
      "Layer (type)                 Output Shape              Param #   \n",
      "=================================================================\n",
      "conv2d (Conv2D)              (None, 40, 40, 64)        5248      \n",
      "_________________________________________________________________\n",
      "max_pooling2d (MaxPooling2D) (None, 20, 20, 64)        0         \n",
      "_________________________________________________________________\n",
      "conv2d_1 (Conv2D)            (None, 20, 20, 64)        331840    \n",
      "_________________________________________________________________\n",
      "max_pooling2d_1 (MaxPooling2 (None, 10, 10, 64)        0         \n",
      "_________________________________________________________________\n",
      "flatten (Flatten)            (None, 6400)              0         \n",
      "_________________________________________________________________\n",
      "dropout (Dropout)            (None, 6400)              0         \n",
      "_________________________________________________________________\n",
      "dense (Dense)                (None, 3)                 19203     \n",
      "=================================================================\n",
      "Total params: 356,291\n",
      "Trainable params: 356,291\n",
      "Non-trainable params: 0\n",
      "_________________________________________________________________\n"
     ]
    }
   ],
   "source": [
    "import tensorflow as tf\n",
    "\n",
    "# load model\n",
    "kr_model = tf.compat.v1.keras.models.load_model(KR_MODEL_NAME)\n",
    "# summarize model.\n",
    "kr_model.summary()"
   ]
  },
  {
   "cell_type": "code",
   "execution_count": 3,
   "metadata": {
    "colab": {
     "base_uri": "https://localhost:8080/",
     "height": 55
    },
    "colab_type": "code",
    "id": "UC3PLJ-kjvYs",
    "outputId": "de146f88-d7f0-42fa-acc1-b3790f6df3ee"
   },
   "outputs": [
    {
     "data": {
      "text/plain": [
       "(2400, 130)"
      ]
     },
     "execution_count": 3,
     "metadata": {},
     "output_type": "execute_result"
    }
   ],
   "source": [
    "predictions = kr_model.predict(X_test)\n",
    "# reverse one-hot encode the predictions\n",
    "y_pred = np.argmax(predictions, axis=1)\n",
    "# reverse one-hot encode of test data (this is the ground truth)\n",
    "y_true = np.argmax(y_test, axis=1)\n",
    "#y_pred[:30]\n",
    "# count of predictions & how many incorrect predictions overall??\n",
    "len(y_pred), (y_pred != y_true).sum()"
   ]
  },
  {
   "cell_type": "code",
   "execution_count": 4,
   "metadata": {
    "colab": {
     "base_uri": "https://localhost:8080/",
     "height": 620
    },
    "colab_type": "code",
    "id": "BpWbrGIgjvZb",
    "outputId": "a14469c8-0363-40b8-9c1b-f8167e76b0fa"
   },
   "outputs": [
    {
     "name": "stdout",
     "output_type": "stream",
     "text": [
      "Displaying a sample of 50 mistaken images from dataset\n"
     ]
    },
    {
     "data": {
      "image/png": "[encoded data removed]",
      "text/plain": [
       "<Figure size 1008x648 with 50 Axes>"
      ]
     },
     "metadata": {},
     "output_type": "display_data"
    }
   ],
   "source": [
    "# NOTE: the title of each cell shows the predicted value in green if prediction matches actual\n",
    "# else cell title shows actual/predicted value in red font\n",
    "sample_size = 50\n",
    "print('Displaying a sample of {} mistaken images from dataset'.format(sample_size))\n",
    "indexes = np.where(y_pred != y_true)[0].astype('int32')[:sample_size]\n",
    "sample_images, sample_labels, sample_predictions = test_images[indexes], test_labels[indexes], y_pred[indexes]\n",
    "display_sample(sample_images, sample_labels, sample_predictions=sample_predictions, \n",
    "               num_rows=5, num_cols=10, \n",
    "               plot_title=\"Keras - actual vs predicted - for random sample of {} images\".format(sample_size))"
   ]
  },
  {
   "cell_type": "markdown",
   "metadata": {},
   "source": [
    "# User Interface"
   ]
  },
  {
   "cell_type": "code",
   "execution_count": 8,
   "metadata": {},
   "outputs": [],
   "source": [
    "import tkinter\n",
    "from tkinter import filedialog\n",
    "from tkinter import *\n",
    "from PIL import ImageTk, Image\n",
    "\n",
    "window = tkinter.Tk()\n",
    "window.geometry('200x200')\n",
    "window.configure(background = 'PeachPuff3')\n",
    "\n",
    "def predict_img():\n",
    "    img_data_list=[]\n",
    "    input_img=cv2.imread(window.filename,0)\n",
    "    input_img_resize=cv2.resize(input_img,(IMAGE_HEIGHT,IMAGE_WIDTH))\n",
    "    img_data_list.append(input_img_resize)\n",
    "    X_input = np.array(img_data_list)\n",
    "    num_data = X_input.shape[0]\n",
    "    X_input = X_input.astype('float32') / 255.0\n",
    "    X_input = np.reshape(X_input, (X_input.shape[0], X_input.shape[1], X_input.shape[2], num_channels))\n",
    "    predictions = kr_model.predict(X_input)\n",
    "    y_pred = np.argmax(predictions, axis=1)\n",
    "    lbl.config(text = class_names[y_pred[0]])\n",
    "    \n",
    "def ask_for_file():\n",
    "    window.filename =  filedialog.askopenfilename(initialdir = \"/\",title = \"Select file\",\n",
    "                                            filetypes = ((\"jpeg files\",\"*.jpg;*.png\"),(\"all files\",\"*.*\")))\n",
    "    if window.filename != '':\n",
    "        img = ImageTk.PhotoImage(Image.open(window.filename))\n",
    "        panel = Label(window, image = img)\n",
    "        panel.pack(side = \"bottom\")#, fill = \"both\", expand = \"yes\")\n",
    "        predict_img()\n",
    "        window.mainloop()\n",
    "\n",
    "btn = tkinter.Button(window, text = 'Add Test Image', command = ask_for_file)\n",
    "btn.pack()\n",
    "\n",
    "\n",
    "lbl = tkinter.Label(window, text = 'Nothing yet!')\n",
    "lbl.pack(fill=X)\n",
    "\n",
    "def predict_image():\n",
    "    input_img=cv2.imread(data_path + '/'+ dataset + '/'+ img,0)\n",
    "window.mainloop()"
   ]
  },
  {
   "cell_type": "code",
   "execution_count": 9,
   "metadata": {},
   "outputs": [
    {
     "name": "stdout",
     "output_type": "stream",
     "text": [
      "Model: \"sequential\"\n",
      "_________________________________________________________________\n",
      "Layer (type)                 Output Shape              Param #   \n",
      "=================================================================\n",
      "conv2d (Conv2D)              (None, 40, 40, 64)        5248      \n",
      "_________________________________________________________________\n",
      "max_pooling2d (MaxPooling2D) (None, 20, 20, 64)        0         \n",
      "_________________________________________________________________\n",
      "conv2d_1 (Conv2D)            (None, 20, 20, 64)        331840    \n",
      "_________________________________________________________________\n",
      "max_pooling2d_1 (MaxPooling2 (None, 10, 10, 64)        0         \n",
      "_________________________________________________________________\n",
      "flatten (Flatten)            (None, 6400)              0         \n",
      "_________________________________________________________________\n",
      "dropout (Dropout)            (None, 6400)              0         \n",
      "_________________________________________________________________\n",
      "dense (Dense)                (None, 3)                 19203     \n",
      "=================================================================\n",
      "Total params: 356,291\n",
      "Trainable params: 356,291\n",
      "Non-trainable params: 0\n",
      "_________________________________________________________________\n",
      "conv2d (9, 9, 1, 64)\n",
      "conv2d_1 (9, 9, 64, 64)\n"
     ]
    }
   ],
   "source": [
    "kr_model.summary()\n",
    "#kr_model.layers[0].get_weights()\n",
    "# summarize filter shapes\n",
    "for layer in kr_model.layers:\n",
    "    # check for convolutional layer\n",
    "    if 'conv' not in layer.name:\n",
    "        continue\n",
    "    # get filter weights\n",
    "    filters, biases = layer.get_weights()\n",
    "    print(layer.name, filters.shape)"
   ]
  },
  {
   "cell_type": "code",
   "execution_count": 10,
   "metadata": {},
   "outputs": [
    {
     "data": {
      "image/png": "[encoded data removed]",
      "text/plain": [
       "<Figure size 432x288 with 6 Axes>"
      ]
     },
     "metadata": {},
     "output_type": "display_data"
    }
   ],
   "source": [
    "import matplotlib.pyplot as pyplot\n",
    "model = kr_model\n",
    "# retrieve weights from the second hidden layer\n",
    "filters, biases = model.layers[0].get_weights()\n",
    "# normalize filter values to 0-1 so we can visualize them\n",
    "f_min, f_max = filters.min(), filters.max()\n",
    "filters = (filters - f_min) / (f_max - f_min)\n",
    "# plot first few filters\n",
    "n_filters, ix = 6, 1\n",
    "for i in range(n_filters):\n",
    "    # get the filter\n",
    "    f = filters[:, :, :, i]\n",
    "    # plot each channel separately\n",
    "    for j in range(1):\n",
    "        # specify subplot and turn of axis\n",
    "        ax = pyplot.subplot(n_filters, 3, ix)\n",
    "        ax.set_xticks([])\n",
    "        ax.set_yticks([])\n",
    "        # plot filter channel in grayscale\n",
    "        pyplot.imshow(f[:, :, 0], cmap='gray')\n",
    "        ix += 1\n",
    "# show the figure\n",
    "pyplot.show()\n",
    "#display_sample(sample_images, sample_labels, sample_predictions=sample_predictions, \n",
    "#               num_rows=5, num_cols=10, \n",
    "#               plot_title=\"Keras - actual vs predicted - for random sample of {} images\".format(sample_size))"
   ]
  },
  {
   "cell_type": "code",
   "execution_count": null,
   "metadata": {},
   "outputs": [],
   "source": []
  }
 ],
 "metadata": {
  "kernelspec": {
   "display_name": "Python 3",
   "language": "python",
   "name": "python3"
  },
  "language_info": {
   "codemirror_mode": {
    "name": "ipython",
    "version": 3
   },
   "file_extension": ".py",
   "mimetype": "text/x-python",
   "name": "python",
   "nbconvert_exporter": "python",
   "pygments_lexer": "ipython3",
   "version": "3.7.4"
  }
 },
 "nbformat": 4,
 "nbformat_minor": 4
}
