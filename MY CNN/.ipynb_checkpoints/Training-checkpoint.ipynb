{
 "cells": [
  {
   "cell_type": "markdown",
   "metadata": {},
   "source": [
    "# Overall Project:\n",
    "### Based off of https://medium.com/@mjbhobe/mnist-digits-classification-with-keras-ed6c2374bd0e\n",
    "* import & set global variables\n",
    "* define load function\n",
    "* define display data function\n",
    "* load data\n",
    "* display 50 samples\n",
    "* import keras\n",
    "* define construct keras model\n",
    "* construct keras model\n",
    "* train model (split load between CPU and GPU) (is timed)\n",
    "* display loss & acuracy graphs\n",
    "* reverse one-hot and show 50 predictions compared with the true values\n",
    "* Saving & Loading the trained weights and model\n",
    "* Input image(can be any size)\n",
    "* Frontend\n",
    "* Example graphs for different Values of alpha(Adam)\n",
    "* Generated images can have random line thickness\n",
    "* image generation for filled shape case\n",
    "* cropped image as background\n",
    "* Edge detection\n",
    "* Fit shape to image size\n",
    "* list Wrong predictions for finding corelations\n",
    "* consecutive training on separate datasets\n",
    "### TO-DO:\n",
    "* generate image with resize blur\n",
    "* Autoencoder with PCA(principle component analysis(CodeParade))\n",
    "\n",
    "* Example graphs for different sized convolution kernel sizes(ex 3x3->85%, 9x9->93%,6x6->94%)(pool layers too?)\n",
    "* Example graphs for different count of input data\n",
    "* Example graphs for different epoch sizes\n",
    "* Example graphs for resized data to make it more blurry\n",
    "* Example graphs for randomised thickness of lines\n",
    "* Example graphs for filled, unfilled and mixt shapes\n",
    "\n",
    "* Slliding window for input image\n",
    "* Visualising intermediate layer output of CNN\n",
    "* Visualization of the Feature Maps Extracted\n",
    "### Tentative:\n",
    "* Remove most or all hardcoding: Image height width shape num classes class names\n",
    "* Load data in batches\n",
    "* Maybe use image segmentation but most probably does not utilise trained network\n",
    "* Check output on optical illusions(triangle made of 3 4/5 circles)"
   ]
  },
  {
   "cell_type": "code",
   "execution_count": 95,
   "metadata": {
    "colab": {},
    "colab_type": "code",
    "id": "P5g9Y4pQmaz7"
   },
   "outputs": [],
   "source": [
    "#import warnings\n",
    "#warnings.filterwarnings(\"ignore\")\n",
    "import logging\n",
    "logging.getLogger('tensorflow').disabled = True\n",
    "\n",
    "import os, random, cv2\n",
    "import numpy as np\n",
    "import matplotlib.pyplot as plt\n",
    "import seaborn as sns\n",
    "\n",
    "from sklearn.utils import shuffle\n",
    "from sklearn.model_selection import train_test_split\n",
    "from keras.utils import np_utils\n",
    "\n",
    "float_formatter = lambda x: '%.4f' % x\n",
    "np.set_printoptions(formatter={'float_kind':float_formatter})\n",
    "np.set_printoptions(threshold=np.inf, suppress=True, precision=4)\n",
    "\n",
    "plt.style.use(\"seaborn-colorblind\")\n",
    "plt.rcParams[\"figure.figsize\"] = (8, 6)\n",
    "sns.set_style(\"darkgrid\")\n",
    "#sns.set_context(\"talk\")\n",
    "sns.set_context(context='notebook', font_scale=1.25)\n",
    "sns.set_style({\"font.sans-serif\": [\"Verdana\", \"Arial\", \"Calibri\", \"DejaVu Sans\"]})\n",
    "\n",
    "# NOTE: It is important that you set a seed value to get same results in every run.\n",
    "# Any number is Ok.\n",
    "seed = 817#123\n",
    "random.seed(seed)\n",
    "np.random.seed(seed)\n",
    "\n",
    "#class_names = ['Ellipse','4lateral','3angle']\n",
    "class_names = ['0','4','3']\n",
    "num_channels, KERNEL_SIZE, alpha = 1, (9,9), 0.0003\n",
    "IMAGE_HEIGHT, IMAGE_WIDTH, IMAGE_SHAPE, num_classes = 40, 40, (40,40,num_channels), len(class_names)\n",
    "# training parameters\n",
    "NUM_EPOCHS, BATCH_SIZE = 15, 128\n",
    "# for loading & saving model state\n",
    "KR_MODEL_NAME = 'keras_shapes.h5'"
   ]
  },
  {
   "cell_type": "markdown",
   "metadata": {
    "colab_type": "text",
    "id": "nL6QGeEejvWH"
   },
   "source": [
    "## Loading & Pre-processing the Images\n",
    "We will load the images from the `keras.datasets.mnist` package, using the `load_data()` function. Keras ships with several datasets, like MNIST, Fashion, CIFAR-10 etc., which we can leverage for learning ML techniques.\n",
    "\n",
    "The following pre-processing steps will be applied:\n",
    "* The image data (X's) will be converted to floats & scaled to values between 0.0 & 1.0\n",
    "* The labels (y's) will be one-hot encoded to width of 10 (as we have 10 output classes corresponding to digits 0-9)\n",
    "* The training set (`X_train, y_train`) will be shuffled & split into training & cross-validation sets using an 80:20 split - we have 60,000 training examples, which will be split into two sets of 48,000 and 12,000 images &amp; labels. \n",
    "* The images & label arrays will be appropriately reshaped - `images -> (num_samples, num_features)`, `labels -> (num_samples, num_classes)`\n",
    "* We will also keep a copy of the test images & labels (i.e. of `X_test & y_test`) _before_ any preprocessing is applied. This is to help with data visualization of the _'original dataset'_."
   ]
  },
  {
   "cell_type": "code",
   "execution_count": 96,
   "metadata": {},
   "outputs": [],
   "source": [
    "def edge_detection(frame):\n",
    "    hsv = cv2.cvtColor(frame, cv2.COLOR_BGR2HSV)\n",
    "\n",
    "    lower_red = np.array([30,150,50])\n",
    "    upper_red = np.array([255,255,180])\n",
    "\n",
    "    mask = cv2.inRange(hsv, lower_red, upper_red)\n",
    "    res = cv2.bitwise_and(frame,frame, mask= mask)\n",
    "\n",
    "    return cv2.Canny(frame,70,120)"
   ]
  },
  {
   "cell_type": "code",
   "execution_count": 97,
   "metadata": {
    "colab": {},
    "colab_type": "code",
    "id": "Q3_M3_h3jvWN"
   },
   "outputs": [],
   "source": [
    "def load_and_preprocess_data(debug=False, edgeDetect=False, folder='Fill2NoBg'):\n",
    "    from keras.utils import to_categorical\n",
    "    \n",
    "    # loading data\n",
    "    PATH = os.getcwd()\n",
    "    # Define data path\n",
    "    data_path = PATH + '/../ShapeData/' + folder\n",
    "    data_dir_list = os.listdir(data_path)\n",
    "\n",
    "    img_data_list=[]\n",
    "\n",
    "    for dataset in data_dir_list:\n",
    "        img_list=os.listdir(data_path+'/'+ dataset)\n",
    "        print ('Loaded the images of dataset-'+'{}\\n'.format(dataset))\n",
    "        for img in img_list:\n",
    "            if edgeDetect:\n",
    "                input_img=cv2.imread(data_path + '/'+ dataset + '/'+ img,1)\n",
    "                img_data_list.append(edge_detection(input_img))\n",
    "            else:\n",
    "                input_img=cv2.imread(data_path + '/'+ dataset + '/'+ img,0)#1=RGB,0=Grey,-1=unchanged\n",
    "                img_data_list.append(input_img)\n",
    "#            input_img_resize=cv2.resize(input_img,(IMAGE_HEIGHT,IMAGE_WIDTH))\n",
    "#            img_data_list.append(input_img_resize)\n",
    "#             img_data_list.append(edge_detection(input_img))\n",
    "    \n",
    "    X_train = np.array(img_data_list)\n",
    "    num_data = X_train.shape[0]\n",
    "    \n",
    "    # Assigning Labels\n",
    "    y_train = np.ones((num_data,),dtype='int64')\n",
    "    for i in range(0,num_classes):\n",
    "        y_train[int(np.floor((i)*num_data/num_classes)):int(np.floor((i+1)*num_data/num_classes))]=i\n",
    "    \n",
    "    if debug:\n",
    "        print('Before preprocessing:')\n",
    "        print(' - X_train.shape = {}, y_train.shape = {}'.format(X_train.shape, y_train.shape))\n",
    "\n",
    "    #shuffle data\n",
    "    indexes = np.random.permutation(X_train.shape[0])\n",
    "    X_train, y_train = X_train[indexes], y_train[indexes]\n",
    "    \n",
    "    #split data into 3 parts & keep copy of test images and labels\n",
    "    num_train=int(np.floor(num_data*0.8))\n",
    "    num_cross=int(np.floor(num_train*0.2))\n",
    "    \n",
    "    X_val, y_val = X_train[num_train:num_train+num_cross], y_train[num_train:num_train+num_cross]\n",
    "    X_test, y_test = X_train[num_train+num_cross:], y_train[num_train+num_cross:]\n",
    "    test_images, test_labels = X_test.copy(), y_test.copy()\n",
    "    X_train, y_train = X_train[:num_train], y_train[:num_train]\n",
    "    \n",
    "    #scale images and one-hot encode labels(from 0 to [1,0,0] ,1 to [0,1,0] etc)\n",
    "    X_train = X_train.astype('float32') / 255.0\n",
    "    X_val = X_val.astype('float32') / 255.0\n",
    "    X_test = X_test.astype('float32') / 255.0\n",
    "    y_train = to_categorical(y_train, num_classes) \n",
    "    y_val = to_categorical(y_val, num_classes)\n",
    "    y_test = to_categorical(y_test, num_classes)\n",
    "    \n",
    "    #Reshaping\n",
    "    X_train = np.reshape(X_train, (X_train.shape[0], X_train.shape[1], X_train.shape[2], num_channels))\n",
    "    X_val = np.reshape(X_val, (X_val.shape[0], X_val.shape[1], X_val.shape[2], num_channels))\n",
    "    X_test = np.reshape(X_test, (X_test.shape[0], X_test.shape[1], X_test.shape[2], num_channels))\n",
    "    \n",
    "    if debug:\n",
    "        print('After preprocessing: ')\n",
    "        print(' - X_train.shape = {}, y_train.shape = {}'.format(X_train.shape, y_train.shape))\n",
    "        print(' - X_val.shape = {}, y_val.shape = {}'.format(X_val.shape, y_val.shape))\n",
    "        print(' - X_test.shape = {}, y_test.shape = {}'.format(X_test.shape, y_test.shape))\n",
    "        print(' - test_images.shape = {}, test_labels.shape = {}'.format(\n",
    "            test_images.shape, test_labels.shape))  \n",
    "    \n",
    "    return (X_train, y_train), (X_val, y_val), (X_test, y_test), (test_images, test_labels)"
   ]
  },
  {
   "cell_type": "code",
   "execution_count": 98,
   "metadata": {
    "colab": {},
    "colab_type": "code",
    "id": "EcI5WZYLjvWZ"
   },
   "outputs": [],
   "source": [
    "def display_sample(sample_images, sample_labels, sample_predictions=None,\n",
    "                   num_rows=5, num_cols=10, plot_title=None, fig_size=None):\n",
    "    \"\"\" \n",
    "    display a random selection of images & corresponding labels, optionally with predictions \n",
    "    The display is laid out in a grid of num_rows x num_col cells.\n",
    "    If sample_predictions are provided, then each cell's title displays the prediction (if it \n",
    "    matches actual value) else it displays actual value/prediction. \n",
    "    \"\"\"\n",
    "    assert sample_images.shape[0] == num_rows * num_cols\n",
    "    \n",
    "    with sns.axes_style(\"whitegrid\"):\n",
    "        sns.set_context(\"notebook\", font_scale=1.1)\n",
    "        sns.set_style({\"font.sans-serif\": [\"Verdana\", \"Arial\", \"Calibri\", \"DejaVu Sans\"]})\n",
    "\n",
    "        f, ax = plt.subplots(num_rows,num_cols,figsize=((14, 9) if fig_size is None else fig_size),\n",
    "            gridspec_kw={\"wspace\": 0.02, \"hspace\": 0.30}, squeeze=True)\n",
    "\n",
    "        for r in range(num_rows):\n",
    "            for c in range(num_cols):\n",
    "                image_index = r * num_cols + c\n",
    "                ax[r, c].axis(\"off\")\n",
    "                # show selected image\n",
    "                ax[r, c].imshow(sample_images[image_index] \n",
    "                                ,cmap=\"gray\" #cmap grey so the image is black and white, not 2 random colours\n",
    "                                ,vmin=0,vmax=255 #vmin and vmax is needed otherwise the image will be two tone\n",
    "                                )\n",
    "\n",
    "                if sample_predictions is None:\n",
    "                    # show the actual labels in the cell title\n",
    "                    title = ax[r, c].set_title(class_names[sample_labels[image_index]])\n",
    "                else:\n",
    "                    # else check if prediction matches actual value\n",
    "                    true_label = class_names[sample_labels[image_index]]\n",
    "                    pred_label = class_names[sample_predictions[image_index]]\n",
    "                    prediction_matches_true = \\\n",
    "                        (sample_labels[image_index] == sample_predictions[image_index])\n",
    "                    if prediction_matches_true:\n",
    "                        # if actual == prediction, cell title is prediction shown in green font\n",
    "                        title = true_label\n",
    "                        title_color = 'g'\n",
    "                    else:\n",
    "                        # if actual != prediction, cell title is actua/prediction in red font\n",
    "                        #title = 'Num: %s/%s' % (true_label, pred_label)\n",
    "                        title = pred_label +'/'+ true_label\n",
    "                        title_color = 'r'\n",
    "                    # display cell title\n",
    "                    title = ax[r, c].set_title(title)\n",
    "                    plt.setp(title, color=title_color)\n",
    "        # set plot title, if one specified\n",
    "        if plot_title is not None: f.suptitle(plot_title)\n",
    "    \n",
    "        plt.show()\n",
    "        plt.close()"
   ]
  },
  {
   "cell_type": "code",
   "execution_count": 99,
   "metadata": {
    "colab": {
     "base_uri": "https://localhost:8080/",
     "height": 167
    },
    "colab_type": "code",
    "id": "2yMpMQfJjvWh",
    "outputId": "d1f0e328-4696-44b4-ba4c-ffbceae71183"
   },
   "outputs": [
    {
     "name": "stdout",
     "output_type": "stream",
     "text": [
      "Loaded the images of dataset-Ellipse\n",
      "\n",
      "Loaded the images of dataset-Quadrilateral\n",
      "\n",
      "Loaded the images of dataset-Triangle\n",
      "\n"
     ]
    }
   ],
   "source": [
    "(X_train, y_train), (X_val, y_val), (X_test, y_test), (test_images, test_labels) = \\\n",
    "    load_and_preprocess_data(edgeDetect=True)"
   ]
  },
  {
   "cell_type": "code",
   "execution_count": 100,
   "metadata": {
    "colab": {
     "base_uri": "https://localhost:8080/",
     "height": 620
    },
    "colab_type": "code",
    "id": "Ut0nzjM1jvWw",
    "outputId": "b01fb854-04dd-4a92-a6c3-8b564e230cf9"
   },
   "outputs": [
    {
     "name": "stdout",
     "output_type": "stream",
     "text": [
      "Displaying a random sample of 50 images from dataset\n"
     ]
    },
    {
     "data": {
      "image/png": "[encoded data removed]",
      "text/plain": [
       "<Figure size 1008x648 with 50 Axes>"
      ]
     },
     "metadata": {},
     "output_type": "display_data"
    }
   ],
   "source": [
    "# display 50 random samples\n",
    "sample_size = 50\n",
    "print('Displaying a random sample of {} images from dataset'.format(sample_size))\n",
    "indexes = np.random.randint(0, test_images.shape[0], sample_size)\n",
    "sample_images, sample_labels = test_images[indexes], test_labels[indexes]\n",
    "display_sample(sample_images, sample_labels, sample_predictions=None, num_rows=5, num_cols=10, \n",
    "               plot_title=\"Random Sample of {} digit images\".format(sample_size))"
   ]
  },
  {
   "cell_type": "markdown",
   "metadata": {
    "colab_type": "text",
    "id": "PzcOq-yLjvXJ"
   },
   "source": [
    "# Keras Implementation\n",
    "We will develop model using Keras' Sequential API, which is much simpler to understand that the Functional API."
   ]
  },
  {
   "cell_type": "code",
   "execution_count": 101,
   "metadata": {
    "colab": {},
    "colab_type": "code",
    "id": "jIyPeiwGjvXU"
   },
   "outputs": [],
   "source": [
    "#replaced keras with tensorflow.compat.v2.keras.\n",
    "# import tensorflow.compat.v2.keras.backend as K\n",
    "# from tensorflow.compat.v2.keras.models import Sequential\n",
    "# from tensorflow.compat.v2.keras.layers import Dense, Dropout, Conv2D, MaxPooling2D, Flatten\n",
    "# from tensorflow.compat.v2.keras import optimizers\n",
    "# import kr_helper_funcs as kru\n",
    "\n",
    "import tensorflow.keras.backend as K\n",
    "from tensorflow.keras.models import Sequential\n",
    "from tensorflow.keras.layers import Dense, Dropout, Conv2D, MaxPooling2D, Flatten\n",
    "from tensorflow.keras import optimizers\n",
    "import kr_helper_funcs as kru\n",
    "\n",
    "# clear the Tensorflow backend to get rid of any spurious graphs\n",
    "#K.clear_session()"
   ]
  },
  {
   "cell_type": "code",
   "execution_count": 102,
   "metadata": {
    "colab": {},
    "colab_type": "code",
    "id": "EbzcXn3sjvXl"
   },
   "outputs": [],
   "source": [
    "def build_keras_model():\n",
    "    K.clear_session()\n",
    "    \n",
    "    model = Sequential()\n",
    "    model.add(Conv2D(64, kernel_size=KERNEL_SIZE, padding='same', activation='relu',\n",
    "                    input_shape=IMAGE_SHAPE))\n",
    "    model.add(MaxPooling2D(pool_size=(2,2)))\n",
    "    model.add(Conv2D(64, kernel_size=KERNEL_SIZE, padding='same', activation='relu'))\n",
    "    model.add(MaxPooling2D(pool_size=(2,2)))\n",
    "    model.add(Flatten())\n",
    "    model.add(Dropout(0.45))\n",
    "    # output is softmax for 10 classes\n",
    "    model.add(Dense(num_classes, activation='softmax'))\n",
    "    adam = optimizers.Adam(lr=alpha)\n",
    "    model.compile(optimizer=adam, loss='categorical_crossentropy', metrics=['acc'])\n",
    "    \n",
    "    return model"
   ]
  },
  {
   "cell_type": "code",
   "execution_count": 103,
   "metadata": {
    "colab": {
     "base_uri": "https://localhost:8080/",
     "height": 430
    },
    "colab_type": "code",
    "id": "kmjyzjV9jvXr",
    "outputId": "97ae72ba-5ed6-48fe-eb9d-17327fd07985"
   },
   "outputs": [
    {
     "name": "stdout",
     "output_type": "stream",
     "text": [
      "Model: \"sequential\"\n",
      "_________________________________________________________________\n",
      "Layer (type)                 Output Shape              Param #   \n",
      "=================================================================\n",
      "conv2d (Conv2D)              (None, 40, 40, 64)        5248      \n",
      "_________________________________________________________________\n",
      "max_pooling2d (MaxPooling2D) (None, 20, 20, 64)        0         \n",
      "_________________________________________________________________\n",
      "conv2d_1 (Conv2D)            (None, 20, 20, 64)        331840    \n",
      "_________________________________________________________________\n",
      "max_pooling2d_1 (MaxPooling2 (None, 10, 10, 64)        0         \n",
      "_________________________________________________________________\n",
      "flatten (Flatten)            (None, 6400)              0         \n",
      "_________________________________________________________________\n",
      "dropout (Dropout)            (None, 6400)              0         \n",
      "_________________________________________________________________\n",
      "dense (Dense)                (None, 3)                 19203     \n",
      "=================================================================\n",
      "Total params: 356,291\n",
      "Trainable params: 356,291\n",
      "Non-trainable params: 0\n",
      "_________________________________________________________________\n",
      "None\n"
     ]
    }
   ],
   "source": [
    "kr_model = build_keras_model()\n",
    "print(kr_model.summary())"
   ]
  },
  {
   "cell_type": "code",
   "execution_count": 104,
   "metadata": {
    "colab": {
     "base_uri": "https://localhost:8080/",
     "height": 1348
    },
    "colab_type": "code",
    "id": "Usc9RYLyjvX4",
    "outputId": "f0db0905-8259-45a4-84da-02479560d2a5",
    "scrolled": true
   },
   "outputs": [
    {
     "name": "stdout",
     "output_type": "stream",
     "text": [
      "Train on 48000 samples, validate on 9600 samples\n",
      "Epoch 1/15\n",
      "WARNING: Entity <function Function._initialize_uninitialized_variables.<locals>.initialize_variables at 0x00000262819320D8> could not be transformed and will be executed as-is. Please report this to the AutoGraph team. When filing the bug, set the verbosity to 10 (on Linux, `export AUTOGRAPH_VERBOSITY=10`) and attach the full output. Cause: module 'gast' has no attribute 'Num'\n",
      "48000/48000 [==============================] - 6s 125us/sample - loss: 0.3208 - acc: 0.8514 - val_loss: 0.2027 - val_acc: 0.9214\n",
      "Epoch 2/15\n",
      "48000/48000 [==============================] - 5s 112us/sample - loss: 0.1811 - acc: 0.9258 - val_loss: 0.1380 - val_acc: 0.9521\n",
      "Epoch 3/15\n",
      "48000/48000 [==============================] - 5s 113us/sample - loss: 0.1432 - acc: 0.9455 - val_loss: 0.1175 - val_acc: 0.9596\n",
      "Epoch 4/15\n",
      "48000/48000 [==============================] - 5s 114us/sample - loss: 0.1289 - acc: 0.9516 - val_loss: 0.1111 - val_acc: 0.9620\n",
      "Epoch 5/15\n",
      "48000/48000 [==============================] - 6s 115us/sample - loss: 0.1192 - acc: 0.9556 - val_loss: 0.1099 - val_acc: 0.9630\n",
      "Epoch 6/15\n",
      "48000/48000 [==============================] - 5s 112us/sample - loss: 0.1114 - acc: 0.9597 - val_loss: 0.1014 - val_acc: 0.9647\n",
      "Epoch 7/15\n",
      "48000/48000 [==============================] - 5s 113us/sample - loss: 0.1066 - acc: 0.9609 - val_loss: 0.0970 - val_acc: 0.9673\n",
      "Epoch 8/15\n",
      "48000/48000 [==============================] - 6s 128us/sample - loss: 0.1011 - acc: 0.9630 - val_loss: 0.0983 - val_acc: 0.9672\n",
      "Epoch 9/15\n",
      "48000/48000 [==============================] - 7s 139us/sample - loss: 0.0974 - acc: 0.9639 - val_loss: 0.0943 - val_acc: 0.9681\n",
      "Epoch 10/15\n",
      "48000/48000 [==============================] - 6s 116us/sample - loss: 0.0934 - acc: 0.9657 - val_loss: 0.0917 - val_acc: 0.9677\n",
      "Epoch 11/15\n",
      "48000/48000 [==============================] - 6s 120us/sample - loss: 0.0879 - acc: 0.9674 - val_loss: 0.0918 - val_acc: 0.9673\n",
      "Epoch 12/15\n",
      "48000/48000 [==============================] - 5s 114us/sample - loss: 0.0848 - acc: 0.9682 - val_loss: 0.0966 - val_acc: 0.9636\n",
      "Epoch 13/15\n",
      "48000/48000 [==============================] - 5s 112us/sample - loss: 0.0793 - acc: 0.9697 - val_loss: 0.0929 - val_acc: 0.9669\n",
      "Epoch 14/15\n",
      "48000/48000 [==============================] - 5s 113us/sample - loss: 0.0757 - acc: 0.9717 - val_loss: 0.0957 - val_acc: 0.9691\n",
      "Epoch 15/15\n",
      "48000/48000 [==============================] - 5s 113us/sample - loss: 0.0728 - acc: 0.9724 - val_loss: 0.0930 - val_acc: 0.9658\n",
      "Wall time: 1min 24s\n"
     ]
    }
   ],
   "source": [
    "# train the model\n",
    "%time history = kr_model.fit(X_train, y_train, epochs=NUM_EPOCHS, batch_size=BATCH_SIZE,validation_data=(X_val, y_val))"
   ]
  },
  {
   "cell_type": "code",
   "execution_count": 105,
   "metadata": {
    "colab": {
     "base_uri": "https://localhost:8080/",
     "height": 298
    },
    "colab_type": "code",
    "id": "7Cn316JfjvYJ",
    "outputId": "ad6ddd51-9433-4f34-aac2-32339d6c92b1"
   },
   "outputs": [
    {
     "data": {
      "image/png": "[encoded data removed]",
      "text/plain": [
       "<Figure size 1152x288 with 2 Axes>"
      ]
     },
     "metadata": {},
     "output_type": "display_data"
    }
   ],
   "source": [
    "# display plots of loss & accuracies\n",
    "kru.show_plots(history.history)"
   ]
  },
  {
   "cell_type": "code",
   "execution_count": 86,
   "metadata": {
    "colab": {
     "base_uri": "https://localhost:8080/",
     "height": 148
    },
    "colab_type": "code",
    "id": "fH9kIUuSjvYS",
    "outputId": "acc8544b-56bc-4187-d680-aff5f9b8e1d4",
    "scrolled": true
   },
   "outputs": [
    {
     "name": "stdout",
     "output_type": "stream",
     "text": [
      "Evaluating performance of Keras model:\n",
      " - Training dataset: loss = 0.0643, accuracy = 0.9766\n",
      " - Cross-validation dataset: loss = 0.1021, accuracy = 0.9583\n",
      " - Test dataset: loss = 0.1121, accuracy = 0.9563\n"
     ]
    }
   ],
   "source": [
    "# evaluate performance against train/cross-val & test data\n",
    "print('Evaluating performance of Keras model:')\n",
    "loss, acc = kr_model.evaluate(X_train, y_train, batch_size=BATCH_SIZE, verbose=0)\n",
    "print(' - Training dataset: loss = {:.4f}, accuracy = {:.4f}'.format(loss, acc))\n",
    "\n",
    "loss, acc = kr_model.evaluate(X_val, y_val, batch_size=BATCH_SIZE, verbose=0)\n",
    "print(' - Cross-validation dataset: loss = {:.4f}, accuracy = {:.4f}'.format(loss, acc))\n",
    "\n",
    "loss, acc = kr_model.evaluate(X_test, y_test, batch_size=BATCH_SIZE, verbose=0)\n",
    "print(' - Test dataset: loss = {:.4f}, accuracy = {:.4f}'.format(loss, acc))"
   ]
  },
  {
   "cell_type": "markdown",
   "metadata": {},
   "source": [
    "# Saving Model"
   ]
  },
  {
   "cell_type": "code",
   "execution_count": 33,
   "metadata": {},
   "outputs": [
    {
     "name": "stdout",
     "output_type": "stream",
     "text": [
      "Saved model to disk\n"
     ]
    }
   ],
   "source": [
    "# save model and architecture to single file\n",
    "kr_model.save(KR_MODEL_NAME)\n",
    "print(\"Saved model to disk\")"
   ]
  },
  {
   "cell_type": "code",
   "execution_count": 106,
   "metadata": {},
   "outputs": [
    {
     "data": {
      "text/plain": [
       "(2400, 83)"
      ]
     },
     "execution_count": 106,
     "metadata": {},
     "output_type": "execute_result"
    }
   ],
   "source": [
    "predictions = kr_model.predict(X_test)\n",
    "# reverse one-hot encode the predictions\n",
    "y_pred = np.argmax(predictions, axis=1)\n",
    "# reverse one-hot encode of test data (this is the ground truth)\n",
    "y_true = np.argmax(y_test, axis=1)\n",
    "#y_pred[:30]\n",
    "# count of predictions & how many incorrect predictions overall??\n",
    "len(y_pred), (y_pred != y_true).sum()"
   ]
  },
  {
   "cell_type": "code",
   "execution_count": 107,
   "metadata": {},
   "outputs": [
    {
     "name": "stdout",
     "output_type": "stream",
     "text": [
      "Displaying a sample of 50 mistaken images from dataset\n"
     ]
    },
    {
     "data": {
      "image/png": "[encoded data removed]",
      "text/plain": [
       "<Figure size 1008x648 with 50 Axes>"
      ]
     },
     "metadata": {},
     "output_type": "display_data"
    }
   ],
   "source": [
    "# NOTE: the title of each cell shows the predicted value in green if prediction matches actual\n",
    "# else cell title shows actual/predicted value in red font\n",
    "sample_size = 50\n",
    "print('Displaying a sample of {} mistaken images from dataset'.format(sample_size))\n",
    "indexes = np.where(y_pred != y_true)[0].astype('int32')[:sample_size]\n",
    "sample_images, sample_labels, sample_predictions = test_images[indexes], test_labels[indexes], y_pred[indexes]\n",
    "display_sample(sample_images, sample_labels, sample_predictions=sample_predictions, \n",
    "               num_rows=5, num_cols=10, \n",
    "               plot_title=\"Keras - actual vs predicted - for random sample of {} images\".format(sample_size))"
   ]
  },
  {
   "cell_type": "code",
   "execution_count": 16,
   "metadata": {},
   "outputs": [
    {
     "data": {
      "text/plain": [
       "81051"
      ]
     },
     "execution_count": 16,
     "metadata": {},
     "output_type": "execute_result"
    }
   ],
   "source": [
    "import gc\n",
    "gc.collect()"
   ]
  },
  {
   "cell_type": "code",
   "execution_count": null,
   "metadata": {},
   "outputs": [],
   "source": []
  }
 ],
 "metadata": {
  "accelerator": "GPU",
  "colab": {
   "collapsed_sections": [],
   "name": "MNIST - CNN - Keras.ipynb",
   "provenance": [],
   "version": "0.3.2"
  },
  "kernelspec": {
   "display_name": "Python 3",
   "language": "python",
   "name": "python3"
  },
  "language_info": {
   "codemirror_mode": {
    "name": "ipython",
    "version": 3
   },
   "file_extension": ".py",
   "mimetype": "text/x-python",
   "name": "python",
   "nbconvert_exporter": "python",
   "pygments_lexer": "ipython3",
   "version": "3.7.4"
  }
 },
 "nbformat": 4,
 "nbformat_minor": 4
}
