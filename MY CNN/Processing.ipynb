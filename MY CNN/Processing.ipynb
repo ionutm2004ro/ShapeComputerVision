{
 "cells": [
  {
   "cell_type": "code",
   "execution_count": 1,
   "metadata": {
    "colab": {},
    "colab_type": "code",
    "id": "P5g9Y4pQmaz7"
   },
   "outputs": [
    {
     "name": "stderr",
     "output_type": "stream",
     "text": [
      "Using TensorFlow backend.\n"
     ]
    }
   ],
   "source": [
    "#import warnings\n",
    "#warnings.filterwarnings(\"ignore\")\n",
    "import logging\n",
    "logging.getLogger('tensorflow').disabled = True\n",
    "\n",
    "import os, random, cv2\n",
    "import numpy as np\n",
    "import matplotlib.pyplot as plt\n",
    "import seaborn as sns\n",
    "\n",
    "from sklearn.utils import shuffle\n",
    "from sklearn.model_selection import train_test_split\n",
    "from keras.utils import np_utils\n",
    "\n",
    "float_formatter = lambda x: '%.4f' % x\n",
    "np.set_printoptions(formatter={'float_kind':float_formatter})\n",
    "np.set_printoptions(threshold=np.inf, suppress=True, precision=4)\n",
    "\n",
    "plt.style.use(\"seaborn-colorblind\")\n",
    "plt.rcParams[\"figure.figsize\"] = (8, 6)\n",
    "sns.set_style(\"darkgrid\")\n",
    "#sns.set_context(\"talk\")\n",
    "sns.set_context(context='notebook', font_scale=1.25)\n",
    "sns.set_style({\"font.sans-serif\": [\"Verdana\", \"Arial\", \"Calibri\", \"DejaVu Sans\"]})\n",
    "\n",
    "# NOTE: It is important that you set a seed value to get same results in every run.\n",
    "# Any number is Ok.\n",
    "seed = 817#123\n",
    "random.seed(seed)\n",
    "np.random.seed(seed)\n",
    "\n",
    "#class_names = ['Ellipse','4lateral','3angle']\n",
    "class_names = ['0','4','3']\n",
    "num_channels, KERNEL_SIZE, alpha = 1, (9,9), 0.0003\n",
    "IMAGE_HEIGHT, IMAGE_WIDTH, IMAGE_SHAPE, num_classes = 40, 40, (40,40,num_channels), len(class_names)\n",
    "# training parameters\n",
    "NUM_EPOCHS, BATCH_SIZE = 15, 128\n",
    "# for loading & saving model state\n",
    "KR_MODEL_NAME = 'keras_shapes.h5'"
   ]
  },
  {
   "cell_type": "code",
   "execution_count": 2,
   "metadata": {},
   "outputs": [],
   "source": [
    "def edge_detection(frame):\n",
    "    hsv = cv2.cvtColor(frame, cv2.COLOR_BGR2HSV)\n",
    "\n",
    "    lower_red = np.array([30,150,50])\n",
    "    upper_red = np.array([255,255,180])\n",
    "\n",
    "    mask = cv2.inRange(hsv, lower_red, upper_red)\n",
    "    res = cv2.bitwise_and(frame,frame, mask= mask)\n",
    "\n",
    "    return cv2.Canny(frame,70,120)"
   ]
  },
  {
   "cell_type": "code",
   "execution_count": 3,
   "metadata": {
    "colab": {},
    "colab_type": "code",
    "id": "Q3_M3_h3jvWN"
   },
   "outputs": [],
   "source": [
    "def load_and_preprocess_data(debug=False, edgeDetect=False, folder='Fill2NoBg'):\n",
    "    from keras.utils import to_categorical\n",
    "    \n",
    "    # loading data\n",
    "    PATH = os.getcwd()\n",
    "    # Define data path\n",
    "    data_path = PATH + '/../ShapeData/' + folder\n",
    "    data_dir_list = os.listdir(data_path)\n",
    "\n",
    "    img_data_list=[]\n",
    "\n",
    "    for dataset in data_dir_list:\n",
    "        img_list=os.listdir(data_path+'/'+ dataset)\n",
    "        print ('Loaded the images of dataset-'+'{}\\n'.format(dataset))\n",
    "        for img in img_list:\n",
    "            if edgeDetect:\n",
    "                input_img=cv2.imread(data_path + '/'+ dataset + '/'+ img,1)\n",
    "                img_data_list.append(edge_detection(input_img))\n",
    "            else:\n",
    "                input_img=cv2.imread(data_path + '/'+ dataset + '/'+ img,0)#1=RGB,0=Grey,-1=unchanged\n",
    "                img_data_list.append(input_img)\n",
    "#            input_img_resize=cv2.resize(input_img,(IMAGE_HEIGHT,IMAGE_WIDTH))\n",
    "#            img_data_list.append(input_img_resize)\n",
    "#             img_data_list.append(edge_detection(input_img))\n",
    "    \n",
    "    X_train = np.array(img_data_list)\n",
    "    num_data = X_train.shape[0]\n",
    "    \n",
    "    # Assigning Labels\n",
    "    y_train = np.ones((num_data,),dtype='int64')\n",
    "    for i in range(0,num_classes):\n",
    "        y_train[int(np.floor((i)*num_data/num_classes)):int(np.floor((i+1)*num_data/num_classes))]=i\n",
    "    \n",
    "    if debug:\n",
    "        print('Before preprocessing:')\n",
    "        print(' - X_train.shape = {}, y_train.shape = {}'.format(X_train.shape, y_train.shape))\n",
    "\n",
    "    #shuffle data\n",
    "    indexes = np.random.permutation(X_train.shape[0])\n",
    "    X_train, y_train = X_train[indexes], y_train[indexes]\n",
    "    \n",
    "    #split data into 3 parts & keep copy of test images and labels\n",
    "    num_train=int(np.floor(num_data*0.8))\n",
    "    num_cross=int(np.floor(num_train*0.2))\n",
    "    \n",
    "    X_val, y_val = X_train[num_train:num_train+num_cross], y_train[num_train:num_train+num_cross]\n",
    "    X_test, y_test = X_train[num_train+num_cross:], y_train[num_train+num_cross:]\n",
    "    test_images, test_labels = X_test.copy(), y_test.copy()\n",
    "    X_train, y_train = X_train[:num_train], y_train[:num_train]\n",
    "    \n",
    "    #scale images and one-hot encode labels(from 0 to [1,0,0] ,1 to [0,1,0] etc)\n",
    "    X_train = X_train.astype('float32') / 255.0\n",
    "    X_val = X_val.astype('float32') / 255.0\n",
    "    X_test = X_test.astype('float32') / 255.0\n",
    "    y_train = to_categorical(y_train, num_classes) \n",
    "    y_val = to_categorical(y_val, num_classes)\n",
    "    y_test = to_categorical(y_test, num_classes)\n",
    "    \n",
    "    #Reshaping\n",
    "    X_train = np.reshape(X_train, (X_train.shape[0], X_train.shape[1], X_train.shape[2], num_channels))\n",
    "    X_val = np.reshape(X_val, (X_val.shape[0], X_val.shape[1], X_val.shape[2], num_channels))\n",
    "    X_test = np.reshape(X_test, (X_test.shape[0], X_test.shape[1], X_test.shape[2], num_channels))\n",
    "    \n",
    "    if debug:\n",
    "        print('After preprocessing: ')\n",
    "        print(' - X_train.shape = {}, y_train.shape = {}'.format(X_train.shape, y_train.shape))\n",
    "        print(' - X_val.shape = {}, y_val.shape = {}'.format(X_val.shape, y_val.shape))\n",
    "        print(' - X_test.shape = {}, y_test.shape = {}'.format(X_test.shape, y_test.shape))\n",
    "        print(' - test_images.shape = {}, test_labels.shape = {}'.format(\n",
    "            test_images.shape, test_labels.shape))  \n",
    "    \n",
    "    return (X_train, y_train), (X_val, y_val), (X_test, y_test), (test_images, test_labels)"
   ]
  },
  {
   "cell_type": "code",
   "execution_count": 4,
   "metadata": {
    "colab": {},
    "colab_type": "code",
    "id": "EcI5WZYLjvWZ"
   },
   "outputs": [],
   "source": [
    "def display_sample(sample_images, sample_labels, sample_predictions=None,\n",
    "                   num_rows=5, num_cols=10, plot_title=None, fig_size=None):\n",
    "    \"\"\" \n",
    "    display a random selection of images & corresponding labels, optionally with predictions \n",
    "    The display is laid out in a grid of num_rows x num_col cells.\n",
    "    If sample_predictions are provided, then each cell's title displays the prediction (if it \n",
    "    matches actual value) else it displays actual value/prediction. \n",
    "    \"\"\"\n",
    "    assert sample_images.shape[0] == num_rows * num_cols\n",
    "    \n",
    "    with sns.axes_style(\"whitegrid\"):\n",
    "        sns.set_context(\"notebook\", font_scale=1.1)\n",
    "        sns.set_style({\"font.sans-serif\": [\"Verdana\", \"Arial\", \"Calibri\", \"DejaVu Sans\"]})\n",
    "\n",
    "        f, ax = plt.subplots(num_rows,num_cols,figsize=((14, 9) if fig_size is None else fig_size),\n",
    "            gridspec_kw={\"wspace\": 0.02, \"hspace\": 0.30}, squeeze=True)\n",
    "\n",
    "        for r in range(num_rows):\n",
    "            for c in range(num_cols):\n",
    "                image_index = r * num_cols + c\n",
    "                ax[r, c].axis(\"off\")\n",
    "                # show selected image\n",
    "                ax[r, c].imshow(sample_images[image_index] \n",
    "                                ,cmap=\"gray\" #cmap grey so the image is black and white, not 2 random colours\n",
    "                                ,vmin=0,vmax=255 #vmin and vmax is needed otherwise the image will be two tone\n",
    "                                )\n",
    "\n",
    "                if sample_predictions is None:\n",
    "                    # show the actual labels in the cell title\n",
    "                    title = ax[r, c].set_title(class_names[sample_labels[image_index]])\n",
    "                else:\n",
    "                    # else check if prediction matches actual value\n",
    "                    true_label = class_names[sample_labels[image_index]]\n",
    "                    pred_label = class_names[sample_predictions[image_index]]\n",
    "                    prediction_matches_true = \\\n",
    "                        (sample_labels[image_index] == sample_predictions[image_index])\n",
    "                    if prediction_matches_true:\n",
    "                        # if actual == prediction, cell title is prediction shown in green font\n",
    "                        title = true_label\n",
    "                        title_color = 'g'\n",
    "                    else:\n",
    "                        # if actual != prediction, cell title is actua/prediction in red font\n",
    "                        #title = 'Num: %s/%s' % (true_label, pred_label)\n",
    "                        title = pred_label +'/'+ true_label\n",
    "                        title_color = 'r'\n",
    "                    # display cell title\n",
    "                    title = ax[r, c].set_title(title)\n",
    "                    plt.setp(title, color=title_color)\n",
    "        # set plot title, if one specified\n",
    "        if plot_title is not None: f.suptitle(plot_title)\n",
    "    \n",
    "        plt.show()\n",
    "        plt.close()"
   ]
  },
  {
   "cell_type": "code",
   "execution_count": 9,
   "metadata": {
    "colab": {
     "base_uri": "https://localhost:8080/",
     "height": 167
    },
    "colab_type": "code",
    "id": "2yMpMQfJjvWh",
    "outputId": "d1f0e328-4696-44b4-ba4c-ffbceae71183"
   },
   "outputs": [
    {
     "name": "stdout",
     "output_type": "stream",
     "text": [
      "Loaded the images of dataset-Ellipse\n",
      "\n",
      "Loaded the images of dataset-Quadrilateral\n",
      "\n",
      "Loaded the images of dataset-Triangle\n",
      "\n"
     ]
    }
   ],
   "source": [
    "(X_train, y_train), (X_val, y_val), (X_test, y_test), (test_images, test_labels) = \\\n",
    "    load_and_preprocess_data(edgeDetect=True)"
   ]
  },
  {
   "cell_type": "markdown",
   "metadata": {
    "colab_type": "text",
    "id": "YNwIoMwhjvYf"
   },
   "source": [
    "### Making Predictions with the Keras Model\n",
    "Next we will run predictions with our Tensorflow model & view some random results."
   ]
  },
  {
   "cell_type": "markdown",
   "metadata": {},
   "source": [
    "# Loading model"
   ]
  },
  {
   "cell_type": "code",
   "execution_count": 6,
   "metadata": {},
   "outputs": [
    {
     "name": "stdout",
     "output_type": "stream",
     "text": [
      "Model: \"sequential\"\n",
      "_________________________________________________________________\n",
      "Layer (type)                 Output Shape              Param #   \n",
      "=================================================================\n",
      "conv2d (Conv2D)              (None, 40, 40, 64)        5248      \n",
      "_________________________________________________________________\n",
      "max_pooling2d (MaxPooling2D) (None, 20, 20, 64)        0         \n",
      "_________________________________________________________________\n",
      "conv2d_1 (Conv2D)            (None, 20, 20, 64)        331840    \n",
      "_________________________________________________________________\n",
      "max_pooling2d_1 (MaxPooling2 (None, 10, 10, 64)        0         \n",
      "_________________________________________________________________\n",
      "flatten (Flatten)            (None, 6400)              0         \n",
      "_________________________________________________________________\n",
      "dropout (Dropout)            (None, 6400)              0         \n",
      "_________________________________________________________________\n",
      "dense (Dense)                (None, 3)                 19203     \n",
      "=================================================================\n",
      "Total params: 356,291\n",
      "Trainable params: 356,291\n",
      "Non-trainable params: 0\n",
      "_________________________________________________________________\n"
     ]
    }
   ],
   "source": [
    "import tensorflow as tf\n",
    "\n",
    "# load model\n",
    "kr_model = tf.compat.v1.keras.models.load_model(KR_MODEL_NAME)\n",
    "# summarize model.\n",
    "kr_model.summary()"
   ]
  },
  {
   "cell_type": "code",
   "execution_count": 10,
   "metadata": {
    "colab": {
     "base_uri": "https://localhost:8080/",
     "height": 55
    },
    "colab_type": "code",
    "id": "UC3PLJ-kjvYs",
    "outputId": "de146f88-d7f0-42fa-acc1-b3790f6df3ee"
   },
   "outputs": [
    {
     "data": {
      "text/plain": [
       "(2400, 133)"
      ]
     },
     "execution_count": 10,
     "metadata": {},
     "output_type": "execute_result"
    }
   ],
   "source": [
    "predictions = kr_model.predict(X_test)\n",
    "# reverse one-hot encode the predictions\n",
    "y_pred = np.argmax(predictions, axis=1)\n",
    "# reverse one-hot encode of test data (this is the ground truth)\n",
    "y_true = np.argmax(y_test, axis=1)\n",
    "#y_pred[:30]\n",
    "# count of predictions & how many incorrect predictions overall??\n",
    "len(y_pred), (y_pred != y_true).sum()"
   ]
  },
  {
   "cell_type": "code",
   "execution_count": 11,
   "metadata": {
    "colab": {
     "base_uri": "https://localhost:8080/",
     "height": 620
    },
    "colab_type": "code",
    "id": "BpWbrGIgjvZb",
    "outputId": "a14469c8-0363-40b8-9c1b-f8167e76b0fa"
   },
   "outputs": [
    {
     "name": "stdout",
     "output_type": "stream",
     "text": [
      "Displaying a sample of 50 mistaken images from dataset\n"
     ]
    },
    {
     "data": {
      "image/png": "[encoded data removed]",
      "text/plain": [
       "<Figure size 1008x648 with 50 Axes>"
      ]
     },
     "metadata": {},
     "output_type": "display_data"
    }
   ],
   "source": [
    "# NOTE: the title of each cell shows the predicted value in green if prediction matches actual\n",
    "# else cell title shows actual/predicted value in red font\n",
    "sample_size = 50\n",
    "print('Displaying a sample of {} mistaken images from dataset'.format(sample_size))\n",
    "indexes = np.where(y_pred != y_true)[0].astype('int32')[:sample_size]\n",
    "sample_images, sample_labels, sample_predictions = test_images[indexes], test_labels[indexes], y_pred[indexes]\n",
    "display_sample(sample_images, sample_labels, sample_predictions=sample_predictions, \n",
    "               num_rows=5, num_cols=10, \n",
    "               plot_title=\"Keras - actual vs predicted - for random sample of {} images\".format(sample_size))"
   ]
  },
  {
   "cell_type": "markdown",
   "metadata": {},
   "source": [
    "# User Interface"
   ]
  },
  {
   "cell_type": "code",
   "execution_count": 8,
   "metadata": {},
   "outputs": [],
   "source": [
    "import tkinter\n",
    "from tkinter import filedialog\n",
    "from tkinter import *\n",
    "from PIL import ImageTk, Image\n",
    "\n",
    "window = tkinter.Tk()\n",
    "window.geometry('200x200')\n",
    "window.configure(background = 'PeachPuff3')\n",
    "\n",
    "def predict_img():\n",
    "    img_data_list=[]\n",
    "    input_img=cv2.imread(window.filename,0)\n",
    "    input_img_resize=cv2.resize(input_img,(IMAGE_HEIGHT,IMAGE_WIDTH))\n",
    "    img_data_list.append(input_img_resize)\n",
    "    X_input = np.array(img_data_list)\n",
    "    num_data = X_input.shape[0]\n",
    "    X_input = X_input.astype('float32') / 255.0\n",
    "    X_input = np.reshape(X_input, (X_input.shape[0], X_input.shape[1], X_input.shape[2], num_channels))\n",
    "    predictions = kr_model.predict(X_input)\n",
    "    y_pred = np.argmax(predictions, axis=1)\n",
    "    lbl.config(text = class_names[y_pred[0]])\n",
    "    \n",
    "def ask_for_file():\n",
    "    window.filename =  filedialog.askopenfilename(initialdir = \"/\",title = \"Select file\",\n",
    "                                            filetypes = ((\"jpeg files\",\"*.jpg;*.png\"),(\"all files\",\"*.*\")))\n",
    "    if window.filename != '':\n",
    "        img = ImageTk.PhotoImage(Image.open(window.filename))\n",
    "        panel = Label(window, image = img)\n",
    "        panel.pack(side = \"bottom\")#, fill = \"both\", expand = \"yes\")\n",
    "        predict_img()\n",
    "        window.mainloop()\n",
    "\n",
    "btn = tkinter.Button(window, text = 'Add Test Image', command = ask_for_file)\n",
    "btn.pack()\n",
    "\n",
    "\n",
    "lbl = tkinter.Label(window, text = 'Nothing yet!')\n",
    "lbl.pack(fill=X)\n",
    "\n",
    "def predict_image():\n",
    "    input_img=cv2.imread(data_path + '/'+ dataset + '/'+ img,0)\n",
    "window.mainloop()"
   ]
  },
  {
   "cell_type": "code",
   "execution_count": 9,
   "metadata": {},
   "outputs": [
    {
     "name": "stdout",
     "output_type": "stream",
     "text": [
      "Model: \"sequential\"\n",
      "_________________________________________________________________\n",
      "Layer (type)                 Output Shape              Param #   \n",
      "=================================================================\n",
      "conv2d (Conv2D)              (None, 40, 40, 64)        5248      \n",
      "_________________________________________________________________\n",
      "max_pooling2d (MaxPooling2D) (None, 20, 20, 64)        0         \n",
      "_________________________________________________________________\n",
      "conv2d_1 (Conv2D)            (None, 20, 20, 64)        331840    \n",
      "_________________________________________________________________\n",
      "max_pooling2d_1 (MaxPooling2 (None, 10, 10, 64)        0         \n",
      "_________________________________________________________________\n",
      "flatten (Flatten)            (None, 6400)              0         \n",
      "_________________________________________________________________\n",
      "dropout (Dropout)            (None, 6400)              0         \n",
      "_________________________________________________________________\n",
      "dense (Dense)                (None, 3)                 19203     \n",
      "=================================================================\n",
      "Total params: 356,291\n",
      "Trainable params: 356,291\n",
      "Non-trainable params: 0\n",
      "_________________________________________________________________\n",
      "conv2d (9, 9, 1, 64)\n",
      "conv2d_1 (9, 9, 64, 64)\n"
     ]
    }
   ],
   "source": [
    "kr_model.summary()\n",
    "#kr_model.layers[0].get_weights()\n",
    "# summarize filter shapes\n",
    "for layer in kr_model.layers:\n",
    "    # check for convolutional layer\n",
    "    if 'conv' not in layer.name:\n",
    "        continue\n",
    "    # get filter weights\n",
    "    filters, biases = layer.get_weights()\n",
    "    print(layer.name, filters.shape)"
   ]
  },
  {
   "cell_type": "code",
   "execution_count": 10,
   "metadata": {},
   "outputs": [
    {
     "data": {
      "image/png": "[encoded data removed]",
      "text/plain": [
       "<Figure size 432x288 with 6 Axes>"
      ]
     },
     "metadata": {},
     "output_type": "display_data"
    }
   ],
   "source": [
    "import matplotlib.pyplot as pyplot\n",
    "model = kr_model\n",
    "# retrieve weights from the second hidden layer\n",
    "filters, biases = model.layers[0].get_weights()\n",
    "# normalize filter values to 0-1 so we can visualize them\n",
    "f_min, f_max = filters.min(), filters.max()\n",
    "filters = (filters - f_min) / (f_max - f_min)\n",
    "# plot first few filters\n",
    "n_filters, ix = 6, 1\n",
    "for i in range(n_filters):\n",
    "    # get the filter\n",
    "    f = filters[:, :, :, i]\n",
    "    # plot each channel separately\n",
    "    for j in range(1):\n",
    "        # specify subplot and turn of axis\n",
    "        ax = pyplot.subplot(n_filters, 3, ix)\n",
    "        ax.set_xticks([])\n",
    "        ax.set_yticks([])\n",
    "        # plot filter channel in grayscale\n",
    "        pyplot.imshow(f[:, :, 0], cmap='gray')\n",
    "        ix += 1\n",
    "# show the figure\n",
    "pyplot.show()\n",
    "#display_sample(sample_images, sample_labels, sample_predictions=sample_predictions, \n",
    "#               num_rows=5, num_cols=10, \n",
    "#               plot_title=\"Keras - actual vs predicted - for random sample of {} images\".format(sample_size))"
   ]
  },
  {
   "cell_type": "code",
   "execution_count": null,
   "metadata": {},
   "outputs": [],
   "source": []
  }
 ],
 "metadata": {
  "kernelspec": {
   "display_name": "Python 3",
   "language": "python",
   "name": "python3"
  },
  "language_info": {
   "codemirror_mode": {
    "name": "ipython",
    "version": 3
   },
   "file_extension": ".py",
   "mimetype": "text/x-python",
   "name": "python",
   "nbconvert_exporter": "python",
   "pygments_lexer": "ipython3",
   "version": "3.7.4"
  }
 },
 "nbformat": 4,
 "nbformat_minor": 4
}
