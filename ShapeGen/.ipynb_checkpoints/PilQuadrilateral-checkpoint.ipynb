{
 "cells": [
  {
   "cell_type": "code",
   "execution_count": 4,
   "metadata": {},
   "outputs": [
    {
     "data": {
      "text/plain": [
       "<Figure size 1440x720 with 0 Axes>"
      ]
     },
     "metadata": {},
     "output_type": "display_data"
    }
   ],
   "source": [
    "import matplotlib.pyplot as plt\n",
    "from random import randint\n",
    "from PIL import Image,ImageDraw\n",
    "#from IPython.display import display # to display images\n",
    "\n",
    "def PolygonArea(corners):\n",
    "    n = len(corners) # of corners\n",
    "    area = 0.0\n",
    "    for i in range(n):\n",
    "        j = (i + 1) % n\n",
    "        area += corners[i][0] * corners[j][1]\n",
    "        area -= corners[j][0] * corners[i][1]\n",
    "    area = abs(area) / 2.0\n",
    "    return area\n",
    "\n",
    "def ccw(A,B,C):\n",
    "    return (C[1]-A[1]) * (B[0]-A[0]) > (B[1]-A[1]) * (C[0]-A[0])\n",
    "\n",
    "# Return true if line segments AB and CD intersect\n",
    "def intersect(A,B,C,D):\n",
    "    return ccw(A,C,D) != ccw(B,C,D) and ccw(A,B,C) != ccw(A,B,D)\n",
    "\n",
    "buffer = 5\n",
    "size = 40\n",
    "i=10000\n",
    "\n",
    "plt.figure(figsize=(20,10))\n",
    "while(i>0):\n",
    "    i-=1\n",
    "\n",
    "    lColor = randint(0,255)\n",
    "    bColor = randint(0,215)\n",
    "    if(bColor >= lColor - 20):\n",
    "        bColor += 40\n",
    "\n",
    "    #im = Image.new('L', (size, size),bColor)\n",
    "    lColor=(lColor,lColor,lColor)\n",
    "    bColor=(bColor,bColor,bColor)\n",
    "    im = Image.new('RGB', (size, size),bColor)\n",
    "\n",
    "    # Generate 4 points inside image\n",
    "    while True:\n",
    "        A = (randint(buffer, size-buffer),randint(buffer, size-buffer))\n",
    "        B = (randint(buffer, size-buffer),randint(buffer, size-buffer))\n",
    "        C = (randint(buffer, size-buffer),randint(buffer, size-buffer))\n",
    "        D = (randint(buffer, size-buffer),randint(buffer, size-buffer))\n",
    "        # Make sure points are not even close to being collinear\n",
    "        if(PolygonArea([A,B,C])>size\n",
    "        and PolygonArea([A,B,D])>size\n",
    "        and PolygonArea([A,C,D])>size\n",
    "        and PolygonArea([B,C,D])>size):\n",
    "            break\n",
    "\n",
    "\n",
    "    draw = ImageDraw.Draw(im)\n",
    "    lc=0\n",
    "    if(not intersect(A, B, C, D)):\n",
    "        draw.line(A+B,fill=lColor,width=1)\n",
    "        draw.line(C+D,fill=lColor,width=1)\n",
    "        lc+=1\n",
    "\n",
    "    if(not intersect(B, C, A, D)):\n",
    "        draw.line(B+C,fill=lColor,width=1)\n",
    "        draw.line(A+D,fill=lColor,width=1)\n",
    "        lc+=1\n",
    "\n",
    "    if (lc < 2 and not intersect(A, C, B, D)):\n",
    "        draw.line(A+C,fill=lColor,width=1)\n",
    "        draw.line(B+D,fill=lColor,width=1)\n",
    "    #print(A)\n",
    "    #print(B)\n",
    "    #print(C)\n",
    "    #print(D)\n",
    "    #draw.point(A,fill=255)\n",
    "    \"\"\"\n",
    "    plt.subplot(20/5 + 1, 10, 20-i)\n",
    "    plt.imshow(im,cmap='gray',vmin=0,vmax=255)\n",
    "    plt.axis('off')\n",
    "    \"\"\"\n",
    "    #im.show()\n",
    "    #display(im)\n",
    "    im.save('../ShapeData/Quadrilateral/quad'+str(i)+'.png')"
   ]
  },
  {
   "cell_type": "code",
   "execution_count": null,
   "metadata": {},
   "outputs": [],
   "source": []
  }
 ],
 "metadata": {
  "kernelspec": {
   "display_name": "Python 3",
   "language": "python",
   "name": "python3"
  },
  "language_info": {
   "codemirror_mode": {
    "name": "ipython",
    "version": 3
   },
   "file_extension": ".py",
   "mimetype": "text/x-python",
   "name": "python",
   "nbconvert_exporter": "python",
   "pygments_lexer": "ipython3",
   "version": "3.7.4"
  }
 },
 "nbformat": 4,
 "nbformat_minor": 4
}
