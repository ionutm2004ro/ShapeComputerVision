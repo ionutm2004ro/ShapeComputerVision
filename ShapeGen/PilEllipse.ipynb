{
 "cells": [
  {
   "cell_type": "code",
   "execution_count": 9,
   "metadata": {},
   "outputs": [
    {
     "data": {
      "text/plain": [
       "<Figure size 1440x720 with 0 Axes>"
      ]
     },
     "metadata": {},
     "output_type": "display_data"
    }
   ],
   "source": [
    "import matplotlib.pyplot as plt\n",
    "from random import randint\n",
    "from PIL import Image,ImageDraw\n",
    "#from IPython.display import display # to display images\n",
    "\n",
    "def PolygonArea(corners):\n",
    "    n = len(corners) # of corners\n",
    "    area = 0.0\n",
    "    for i in range(n):\n",
    "        j = (i + 1) % n\n",
    "        area += corners[i][0] * corners[j][1]\n",
    "        area -= corners[j][0] * corners[i][1]\n",
    "    area = abs(area) / 2.0\n",
    "    return area\n",
    "\n",
    "buffer = 5\n",
    "minSize=10\n",
    "size = 40\n",
    "i=10000\n",
    "\n",
    "plt.figure(figsize=(20,10))\n",
    "while(i>0):\n",
    "    i-=1\n",
    "\n",
    "    lColor = randint(0,255)\n",
    "    bColor = randint(0,215)\n",
    "    if(bColor >= lColor - 20):\n",
    "        bColor += 40\n",
    "\n",
    "#    im = Image.new('L', (size, size),bColor)\n",
    "    lColor=(lColor,lColor,lColor)\n",
    "    bColor=(bColor,bColor,bColor)\n",
    "    im = Image.new('RGB', (size, size),bColor)\n",
    "\n",
    "    #generate 2 points inside image (topleft and bottomright)\n",
    "    A = (randint(buffer, size - buffer - minSize), randint(buffer, size - buffer-minSize))\n",
    "    B = (randint(A[0]+minSize, size - buffer), randint(A[1]+minSize, size - buffer))\n",
    "\n",
    "    draw = ImageDraw.Draw(im)\n",
    "    draw.ellipse(A+B, outline=lColor) # fill=lColor\n",
    "    #draw.point(A,fill=255)\n",
    "    \"\"\"\n",
    "    plt.subplot(20/5 + 1, 10, 20-i)\n",
    "    plt.imshow(im,cmap='gray',vmin=0,vmax=255)\n",
    "    plt.axis('off')\n",
    "    \"\"\"\n",
    "    #im.show()\n",
    "    #display(im)\n",
    "    im.save('../ShapeData/Ellipse/ellipse'+str(i)+'.png')"
   ]
  },
  {
   "cell_type": "code",
   "execution_count": null,
   "metadata": {},
   "outputs": [],
   "source": []
  }
 ],
 "metadata": {
  "kernelspec": {
   "display_name": "Python 3",
   "language": "python",
   "name": "python3"
  },
  "language_info": {
   "codemirror_mode": {
    "name": "ipython",
    "version": 3
   },
   "file_extension": ".py",
   "mimetype": "text/x-python",
   "name": "python",
   "nbconvert_exporter": "python",
   "pygments_lexer": "ipython3",
   "version": "3.7.4"
  }
 },
 "nbformat": 4,
 "nbformat_minor": 4
}
